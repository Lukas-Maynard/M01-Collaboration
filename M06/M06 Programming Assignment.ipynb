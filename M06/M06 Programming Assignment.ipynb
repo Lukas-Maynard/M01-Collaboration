{
 "cells": [
  {
   "cell_type": "code",
   "execution_count": 6,
   "id": "82e58537",
   "metadata": {},
   "outputs": [],
   "source": [
    "# 13.1\n",
    "from datetime import date\n",
    "today = date.today()\n",
    "file = open('today.txt', 'w')\n",
    "file.write(str(today))\n",
    "file.close()"
   ]
  },
  {
   "cell_type": "code",
   "execution_count": 7,
   "id": "a6b09aab",
   "metadata": {},
   "outputs": [
    {
     "name": "stdout",
     "output_type": "stream",
     "text": [
      "2022-07-16\n"
     ]
    }
   ],
   "source": [
    "# 13.2 \n",
    "file2 = open('today.txt','r')\n",
    "today_string = file2.read()\n",
    "print(today_string)"
   ]
  },
  {
   "cell_type": "code",
   "execution_count": 8,
   "id": "175971dd",
   "metadata": {},
   "outputs": [
    {
     "name": "stdout",
     "output_type": "stream",
     "text": [
      "['2022', '07', '16']\n"
     ]
    }
   ],
   "source": [
    "# 13 .3\n",
    "today_string = today_string.split('-')\n",
    "print (today_string)"
   ]
  },
  {
   "cell_type": "code",
   "execution_count": 29,
   "id": "b0c147c2",
   "metadata": {},
   "outputs": [
    {
     "name": "stdout",
     "output_type": "stream",
     "text": [
      "Total time: -0.890557050704956\n"
     ]
    }
   ],
   "source": [
    "# 15.1 \n",
    "import multiprocessing\n",
    "import time\n",
    "import random\n",
    "\n",
    "def waiting():\n",
    "    t = random.random()\n",
    "    time.sleep(t)\n",
    "    print(f'Slept for {t} seconds')\n",
    "    \n",
    "p1 = multiprocessing.Process(target=waiting)\n",
    "p2 = multiprocessing.Process(target=waiting)\n",
    "p3 = multiprocessing.Process(target=waiting)\n",
    "\n",
    "\n",
    "if __name__ == \"__main__\":\n",
    "    start = time.time()\n",
    "    p1.start()\n",
    "    p2.start()\n",
    "    p3.start()\n",
    "    p1.join()\n",
    "    p2.join()\n",
    "    p3.join()\n",
    "    end = time.time()\n",
    "    \n",
    "    time.sleep(1)\n",
    "\n",
    "    print(f'Total time: {end - start}')"
   ]
  },
  {
   "cell_type": "code",
   "execution_count": 25,
   "id": "43d9f2dd",
   "metadata": {},
   "outputs": [
    {
     "name": "stdout",
     "output_type": "stream",
     "text": [
      "Slept for 0.8788184932240027 seconds\n",
      "Slept for 0.05911771404696964 seconds\n",
      "Slept for 0.660988408141149 seconds\n",
      "Total time: 1.6074917316436768\n"
     ]
    }
   ],
   "source": [
    "# 15.1 without multiprocessing\n",
    "import time\n",
    "import random\n",
    "\n",
    "def waiting():\n",
    "    t = random.random()\n",
    "    time.sleep(t)\n",
    "    print(f'Slept for {t} seconds')\n",
    "    \n",
    "    \n",
    "if __name__ == \"__main__\":\n",
    "    start = time.time()\n",
    "    for i in range(3):\n",
    "        waiting()\n",
    "    end = time.time()\n",
    "\n",
    "    print(f'Total time: {end - start}')"
   ]
  },
  {
   "cell_type": "code",
   "execution_count": null,
   "id": "b125b789",
   "metadata": {},
   "outputs": [],
   "source": []
  }
 ],
 "metadata": {
  "kernelspec": {
   "display_name": "Python 3 (ipykernel)",
   "language": "python",
   "name": "python3"
  },
  "language_info": {
   "codemirror_mode": {
    "name": "ipython",
    "version": 3
   },
   "file_extension": ".py",
   "mimetype": "text/x-python",
   "name": "python",
   "nbconvert_exporter": "python",
   "pygments_lexer": "ipython3",
   "version": "3.9.12"
  }
 },
 "nbformat": 4,
 "nbformat_minor": 5
}
