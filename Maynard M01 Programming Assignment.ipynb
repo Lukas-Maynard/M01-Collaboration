{
 "cells": [
  {
   "cell_type": "code",
   "execution_count": 8,
   "id": "210ece7d",
   "metadata": {},
   "outputs": [
    {
     "name": "stdout",
     "output_type": "stream",
     "text": [
      "3600\n"
     ]
    }
   ],
   "source": [
    "# 3.1 & 3.2\n",
    "sec = min = 60\n",
    "seconds_per_hour = sec * min\n",
    "print(seconds_per_hour)"
   ]
  },
  {
   "cell_type": "code",
   "execution_count": 11,
   "id": "fe1c5523",
   "metadata": {},
   "outputs": [
    {
     "name": "stdout",
     "output_type": "stream",
     "text": [
      "86400\n"
     ]
    }
   ],
   "source": [
    "# 3.3 & 3.4\n",
    "day = 24\n",
    "seconds_per_day = seconds_per_hour * day\n",
    "print(seconds_per_day)"
   ]
  },
  {
   "cell_type": "code",
   "execution_count": 10,
   "id": "fbaf21d9",
   "metadata": {},
   "outputs": [
    {
     "name": "stdout",
     "output_type": "stream",
     "text": [
      "24.0\n"
     ]
    }
   ],
   "source": [
    "# 3.5\n",
    "hours_per_day = seconds_per_day / seconds_per_hour\n",
    "print(hours_per_day)"
   ]
  },
  {
   "cell_type": "code",
   "execution_count": 12,
   "id": "e4f7dbe9",
   "metadata": {},
   "outputs": [
    {
     "name": "stdout",
     "output_type": "stream",
     "text": [
      "24\n"
     ]
    }
   ],
   "source": [
    "# 3.6\n",
    "hours_per_day2 = seconds_per_day // seconds_per_hour\n",
    "print(hours_per_day2)"
   ]
  },
  {
   "cell_type": "code",
   "execution_count": null,
   "id": "c60e9840",
   "metadata": {},
   "outputs": [],
   "source": []
  }
 ],
 "metadata": {
  "kernelspec": {
   "display_name": "Python 3 (ipykernel)",
   "language": "python",
   "name": "python3"
  },
  "language_info": {
   "codemirror_mode": {
    "name": "ipython",
    "version": 3
   },
   "file_extension": ".py",
   "mimetype": "text/x-python",
   "name": "python",
   "nbconvert_exporter": "python",
   "pygments_lexer": "ipython3",
   "version": "3.9.12"
  }
 },
 "nbformat": 4,
 "nbformat_minor": 5
}
