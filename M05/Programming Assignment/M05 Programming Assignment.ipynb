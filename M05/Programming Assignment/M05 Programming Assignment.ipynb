{
 "cells": [
  {
   "cell_type": "code",
   "execution_count": 3,
   "id": "d71ad59e",
   "metadata": {},
   "outputs": [
    {
     "ename": "AssertionError",
     "evalue": "Should be 6, This throws an AssertionError",
     "output_type": "error",
     "traceback": [
      "\u001b[1;31m---------------------------------------------------------------------------\u001b[0m",
      "\u001b[1;31mAssertionError\u001b[0m                            Traceback (most recent call last)",
      "\u001b[1;32mc:\\Users\\lukas\\Desktop\\Python (All)\\Git\\Python SDEV-220\\M05\\Programming Assignment\\M05 Programming Assignment.ipynb Cell 1\u001b[0m in \u001b[0;36m<cell line: 4>\u001b[1;34m()\u001b[0m\n\u001b[0;32m      <a href='vscode-notebook-cell:/c%3A/Users/lukas/Desktop/Python%20%28All%29/Git/Python%20SDEV-220/M05/Programming%20Assignment/M05%20Programming%20Assignment.ipynb#ch0000000?line=0'>1</a>\u001b[0m \u001b[39m# TEST YOUR CODE #\u001b[39;00m\n\u001b[0;32m      <a href='vscode-notebook-cell:/c%3A/Users/lukas/Desktop/Python%20%28All%29/Git/Python%20SDEV-220/M05/Programming%20Assignment/M05%20Programming%20Assignment.ipynb#ch0000000?line=1'>2</a>\u001b[0m \u001b[39massert\u001b[39;00m \u001b[39msum\u001b[39m([\u001b[39m1\u001b[39m, \u001b[39m2\u001b[39m, \u001b[39m3\u001b[39m]) \u001b[39m==\u001b[39m \u001b[39m6\u001b[39m, \u001b[39m\"\u001b[39m\u001b[39mShould be 6\u001b[39m\u001b[39m\"\u001b[39m\n\u001b[1;32m----> <a href='vscode-notebook-cell:/c%3A/Users/lukas/Desktop/Python%20%28All%29/Git/Python%20SDEV-220/M05/Programming%20Assignment/M05%20Programming%20Assignment.ipynb#ch0000000?line=3'>4</a>\u001b[0m \u001b[39massert\u001b[39;00m \u001b[39msum\u001b[39m([\u001b[39m1\u001b[39m, \u001b[39m1\u001b[39m, \u001b[39m1\u001b[39m]) \u001b[39m==\u001b[39m \u001b[39m6\u001b[39m, \u001b[39m\"\u001b[39m\u001b[39mShould be 6, This throws an AssertionError\u001b[39m\u001b[39m\"\u001b[39m\n",
      "\u001b[1;31mAssertionError\u001b[0m: Should be 6, This throws an AssertionError"
     ]
    }
   ],
   "source": [
    "# TEST YOUR CODE #\n",
    "assert sum([1, 2, 3]) == 6, \"Should be 6\"\n",
    "\n",
    "assert sum([1, 1, 1]) == 6, \"Should be 6, This throws an AssertionError\""
   ]
  },
  {
   "cell_type": "code",
   "execution_count": 5,
   "id": "1e8c618d",
   "metadata": {},
   "outputs": [],
   "source": [
    "# WRITE YOUR FIRST TEST #\n",
    "# files in \"M05 Programming Assignment\" GitHub directory"
   ]
  },
  {
   "cell_type": "code",
   "execution_count": null,
   "id": "195d531d",
   "metadata": {},
   "outputs": [],
   "source": [
    "# EXECUTING YOUR FIRST TEST #\n",
    "# files in \"M05 Programming Assignment\" GitHub directory"
   ]
  }
 ],
 "metadata": {
  "kernelspec": {
   "display_name": "Python 3.10.2 64-bit",
   "language": "python",
   "name": "python3"
  },
  "language_info": {
   "codemirror_mode": {
    "name": "ipython",
    "version": 3
   },
   "file_extension": ".py",
   "mimetype": "text/x-python",
   "name": "python",
   "nbconvert_exporter": "python",
   "pygments_lexer": "ipython3",
   "version": "3.10.2"
  },
  "vscode": {
   "interpreter": {
    "hash": "e1719be7d630e7e0894a4346e00239747771550a505546fd5ba4d63ceaa06c07"
   }
  }
 },
 "nbformat": 4,
 "nbformat_minor": 5
}
