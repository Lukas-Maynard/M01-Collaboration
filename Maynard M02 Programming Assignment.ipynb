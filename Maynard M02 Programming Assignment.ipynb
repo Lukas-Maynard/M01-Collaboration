{
 "cells": [
  {
   "cell_type": "code",
   "execution_count": 15,
   "id": "04e56e4b",
   "metadata": {},
   "outputs": [
    {
     "name": "stdout",
     "output_type": "stream",
     "text": [
      "Enter your guess: 7\n",
      "Just right!\n"
     ]
    }
   ],
   "source": [
    "# 4.1\n",
    "guess = int(input('Enter your guess: '))\n",
    "secret = 7\n",
    "if guess == secret:\n",
    "    print('Just right!')\n",
    "elif guess < secret:\n",
    "    print('Too low.')\n",
    "else:\n",
    "    print('Too high.')"
   ]
  },
  {
   "cell_type": "code",
   "execution_count": 14,
   "id": "3af5d71a",
   "metadata": {},
   "outputs": [
    {
     "name": "stdout",
     "output_type": "stream",
     "text": [
      "Thats a cherry.\n"
     ]
    }
   ],
   "source": [
    "# 4.2\n",
    "small, green = True, False\n",
    "if small and green == True:\n",
    "    print('Thats a pea.')\n",
    "elif small == True and green == False:\n",
    "    print('Thats a cherry.')\n",
    "elif small == False and green == True:\n",
    "    print('Thats a watermelon.')\n",
    "else:\n",
    "    print('Thats a pumpkin.')"
   ]
  },
  {
   "cell_type": "code",
   "execution_count": 17,
   "id": "967b1147",
   "metadata": {},
   "outputs": [
    {
     "name": "stdout",
     "output_type": "stream",
     "text": [
      "3\n",
      "2\n",
      "1\n",
      "0\n"
     ]
    }
   ],
   "source": [
    "# 6.1\n",
    "for i in range(3, -1, -1):\n",
    "    print(i)"
   ]
  },
  {
   "cell_type": "code",
   "execution_count": 27,
   "id": "4f962072",
   "metadata": {},
   "outputs": [
    {
     "name": "stdout",
     "output_type": "stream",
     "text": [
      "Too low\n",
      "Too low\n",
      "Too low\n",
      "Too low\n",
      "Too low\n",
      "Too low\n",
      "Found it.\n"
     ]
    }
   ],
   "source": [
    "# 6.2\n",
    "guess_me, number = 7, 1\n",
    "while number <= guess_me:\n",
    "    if number < guess_me:\n",
    "        print('Too low')\n",
    "    elif number == guess_me:\n",
    "        print('Found it.')\n",
    "        break\n",
    "    else:\n",
    "        print('oops!')\n",
    "        break\n",
    "    number += 1"
   ]
  },
  {
   "cell_type": "code",
   "execution_count": 28,
   "id": "0dc8d8ed",
   "metadata": {},
   "outputs": [
    {
     "name": "stdout",
     "output_type": "stream",
     "text": [
      "Too low\n",
      "Too low\n",
      "Too low\n",
      "Too low\n",
      "Too low\n",
      "Found it.\n"
     ]
    }
   ],
   "source": [
    "# 6.3\n",
    "guess_me = 5\n",
    "for number in range(10):\n",
    "    if number < guess_me:\n",
    "        print('Too low')\n",
    "    elif number == guess_me:\n",
    "        print('Found it.')\n",
    "        break\n",
    "    else:\n",
    "        print('oops!')\n",
    "        break\n",
    "    "
   ]
  },
  {
   "cell_type": "code",
   "execution_count": null,
   "id": "7e9a9a0f",
   "metadata": {},
   "outputs": [],
   "source": []
  }
 ],
 "metadata": {
  "kernelspec": {
   "display_name": "Python 3 (ipykernel)",
   "language": "python",
   "name": "python3"
  },
  "language_info": {
   "codemirror_mode": {
    "name": "ipython",
    "version": 3
   },
   "file_extension": ".py",
   "mimetype": "text/x-python",
   "name": "python",
   "nbconvert_exporter": "python",
   "pygments_lexer": "ipython3",
   "version": "3.9.12"
  }
 },
 "nbformat": 4,
 "nbformat_minor": 5
}
